{
  "nbformat": 4,
  "nbformat_minor": 0,
  "metadata": {
    "colab": {
      "name": "quantum_annealing_study_session_002.ipynb",
      "provenance": [],
      "collapsed_sections": []
    },
    "kernelspec": {
      "name": "python3",
      "display_name": "Python 3"
    },
    "language_info": {
      "name": "python"
    }
  },
  "cells": [
    {
      "cell_type": "markdown",
      "metadata": {
        "id": "view-in-github"
      },
      "source": [
        "<a href=\"https://colab.research.google.com/gist/mohzeki222/7faebc6a45a511fa33c769ed88ca740b/chapter1.ipynb\" target=\"_parent\"><img src=\"https://colab.research.google.com/assets/colab-badge.svg\" alt=\"Open In Colab\"/></a>"
      ]
    },
    {
      "cell_type": "markdown",
      "source": [
        "オリジナルは東北大学大関先生のQA4Uから。\n",
        "量子アニーリングマシンを使った、組合せ最適化問題の解決を試みるために必要なTipsが満載。\n",
        "https://altema.is.tohoku.ac.jp/QA4U/\n",
        "\n",
        "こちらは、プログラム経験がある方用に、一部変更して説明しています。"
      ],
      "metadata": {
        "id": "GvActmfZDpbC"
      }
    },
    {
      "cell_type": "markdown",
      "metadata": {
        "id": "dWzmOoJPzlkJ"
      },
      "source": [
        "### **実感の湧く問題を解いてみよう**"
      ]
    },
    {
      "cell_type": "markdown",
      "metadata": {
        "id": "gzgI7qDUzll-"
      },
      "source": [
        "少し具体的に意味のある問題を解いてみることにしましょう。\n"
      ]
    },
    {
      "cell_type": "markdown",
      "metadata": {
        "id": "gu_yM2KXzloD"
      },
      "source": [
        "**いくつかの荷物があり、それぞれには重さが異なるものとします。\n",
        "それを運ぶ2人がいて、重さが均等になるようにその荷物を2つのグループに分けたい。**"
      ]
    },
    {
      "cell_type": "markdown",
      "metadata": {
        "id": "40LzLXSPzlqM"
      },
      "source": [
        "どのようにしたら良いでしょうか？\n",
        "ここで考えなければならないのは、**量子アニーリングマシンへ入力するQUBO行列を作る**ことです。\n",
        "\n",
        "そこで重要となるのが**数式によるモデリング**です。\n",
        "ここが量子アニーリングの研究開発を行う上での成長ポイントです。\n",
        "量子そのものの前に、数理モデリングに挑戦する必要があるのです。\n",
        "\n",
        "QUBO行列とは、下記のQUBO（二次制約なしバイナリ最適化）問題を定式化した、目的関数$E({\\bf x})$の$Q_{ij}$の部分なので、解決する課題をうまくモデリングして、この目的関数の形式に定式化できれば、$Q_{ij}$の部分を取り出すことができる。\n",
        "\n",
        "\\begin{equation}\n",
        "E({\\bf x}) = \\sum_{i=1}^N Q_{ij} x_i x_j\n",
        "\\end{equation}\n",
        "\n"
      ]
    },
    {
      "cell_type": "markdown",
      "metadata": {
        "id": "SwFe5FJEzlsX"
      },
      "source": [
        "重さを持ついくつかの荷物があるというのだから、その重さを$w_i$としましょう。\n",
        "$N$個あるとして、合計した重さは$W=\\sum_{i=1}^N w_i$です。式は、すべての荷物の重さの合計$W$は、各荷物の重さを格納したリスト$w_i$の1番目からＮ番目を合計するという意味です。\n",
        "\n",
        "\n",
        "（こうやって何も与えられていないところで**自分で文字式を立てる**ところから訓練です）\n"
      ]
    },
    {
      "cell_type": "markdown",
      "metadata": {
        "id": "4vbhaCW3zlup"
      },
      "source": [
        "2人のうちAさんがその荷物を取る場合$x_i=1$として、取らない場合は$x_i=0$とすると、\n",
        "Aさんが持つ荷物の重さの合計は、\n",
        "\\begin{equation}\n",
        "W_A = \\sum_{i=1}^N w_i x_i\n",
        "\\end{equation}\n",
        "\n",
        "Σ記号に慣れていない方のために、少し解説します。\n",
        "\n",
        "この式は、Aさんが持つ荷物の重さの合計$W_A$は、各荷物の重さを格納するリスト$w_i$とAさんがその荷物を持つかどうかを1と0で表現したリスト$x_i$の各要素を乗算した値を合計するという意味です。\n",
        "\n",
        "例えば、荷物が８つあって、各荷物の重さと、Aさんが持つ荷物のリストがそれぞれ、下記のの場合\n",
        "\n",
        "\\begin{equation}\n",
        "w_i = [5,6,4,7,6,2,8,4]\n",
        "\\end{equation}\n",
        "\\begin{equation}\n",
        "x_i = [0,1,1,0,1,1,0,0]\n",
        "\\end{equation}\n",
        "\n",
        "$w_i$と$x_i$の要素をそれぞれ乗算した値$w_i$$x_i$は、下記となる。\n",
        "\n",
        "\\begin{equation}\n",
        "w_i x_i = [0,6,4,0,6,2,0,0]\n",
        "\\end{equation}\n",
        "\n",
        "$W_A$は、リスト$w_i$$x_i$の要素の合計なので、Aさんの持つ荷物の合計の重さは18となる。\n",
        "\n",
        "\n",
        "\n"
      ]
    },
    {
      "cell_type": "markdown",
      "source": [
        "逆にBさんは残りの荷物を持つので\n",
        "\\begin{equation}\n",
        "W_B = W - W_A\n",
        "\\end{equation}\n",
        "となります。\n",
        "これらが等しくなるというのだから、\n",
        "\\begin{equation}\n",
        "W_A - W_B\n",
        "\\end{equation}\n",
        "という引き算をしたズレが$0$になれば完璧です。\n",
        "もしくは非常に小さいものとなってくれれば嬉しい。\n",
        "ただ$W_A$がわずかに大きくても仕方ないし、小さくても仕方ない。正負の値どちらでも良いからとにかく**ズレの大きさ**ができるだけ小さいことが望ましいというわけです。\n",
        "できるだけ小さい、すなわちズレの大きさが最小になるような組み合わせを見つければ良いですよね。\n",
        "そうするとコスト関数として、次のようなものを考えてみましょう。\n",
        "\\begin{equation}\n",
        "E({\\bf x}) = \\left( W_A - W_B \\right)^2 = \\left( 2W_A - W \\right)^2\n",
        "\\end{equation}\n",
        "\n",
        "ソフトウェアエンジニアなら**「絶対値でいいじゃん！」**って考える方も多いと思いますが、量子アニーリングマシンで解く最適化問題が、QUBO（二次制約なしバイナリ最適化）問題であることを思い出してみよう。定式化した目的関数は、二次関数である必要があるので、ここは**二乗にしておく方が都合が良い**のです。\n",
        "\n",
        "ここに$W_A$の具体的な形として先ほど準備しておいた形を入れてみましょう。\n",
        "\\begin{equation}\n",
        "E({\\bf x}) = \\left( 2\\sum_{i=1}^N w_i x_i - W \\right)^2\n",
        "\\end{equation}"
      ],
      "metadata": {
        "id": "pU7XiOLLRARd"
      }
    },
    {
      "cell_type": "markdown",
      "metadata": {
        "id": "XS7EVj71zlwx"
      },
      "source": [
        "何か近い形になってきましたね。二乗をするというのは同じものを掛け算するという意味です。\n",
        "シグマ記号は嫌らしいけれども意味はとにかく足し算をするというものでした。\n",
        "下にある$i=1$は$i$という文字を$1$から動かして上にある$N$まで変えて足し算してくださいね、ということです。\n",
        "だったら$i$という文字は仮置きをしているだけですから、別の文字を使っても良いですね。\n"
      ]
    },
    {
      "cell_type": "markdown",
      "metadata": {
        "id": "OXjkUAmOXRcx"
      },
      "source": [
        "\\begin{equation}\n",
        "E({\\bf x}) = \\left( 2\\sum_{i=1}^N w_i x_i - W \\right)\\left( 2\\sum_{j=1}^N w_j x_j - W \\right)\n",
        "\\end{equation}"
      ]
    },
    {
      "cell_type": "markdown",
      "metadata": {
        "id": "NZifi9yCXWyS"
      },
      "source": [
        "この掛け算を展開してみましょう。"
      ]
    },
    {
      "cell_type": "markdown",
      "metadata": {
        "id": "i3VkKv_WXbow"
      },
      "source": [
        "\\begin{equation}\n",
        "E({\\bf x}) = 4\\sum_{i=1}^N\\sum_{j=1}^N w_iw_j x_ix_j - 2W\\sum_{i=1}^N w_i x_i  - 2W\\sum_{j=1}^N w_j x_j + W^2\n",
        "\\end{equation}"
      ]
    },
    {
      "cell_type": "code",
      "source": [
        ""
      ],
      "metadata": {
        "id": "GBs9Guw8Q-Jo"
      },
      "execution_count": null,
      "outputs": []
    },
    {
      "cell_type": "markdown",
      "metadata": {
        "id": "J6GWTPrzY9vy"
      },
      "source": [
        "ここで第二項と第三項で同じ和が2つ出ていますので、まとめておきましょう。\n",
        "\\begin{equation}\n",
        "E({\\bf x}) = 4\\sum_{i=1}^N\\sum_{j=1}^N w_iw_j x_ix_j - 4W\\sum_{i=1}^N w_i x_i + W^2\n",
        "\\end{equation}\n"
      ]
    },
    {
      "cell_type": "code",
      "source": [
        ""
      ],
      "metadata": {
        "id": "3G0cN1RAQ98A"
      },
      "execution_count": null,
      "outputs": []
    },
    {
      "cell_type": "markdown",
      "metadata": {
        "id": "6rFLqcTlYtO6"
      },
      "source": [
        "$x_ix_j$という部分が出てきましたね。その係数は$4w_iw_j$で、この部分がQUBO行列に相当します。$x_i$が$0$と$1$のどちらかの値を持つことから、$x_i$が$x_ix_i$と同じことを思いつくと、第二項は、$-4W\\sum_{i=1}^N w_i x_ix_i$という意味で、QUBO行列のうち添え字が同じ$i$と$i$のとき、対角成分のことを示していることがわかります。\n",
        "これらの事実からQUBO行列を作るプログラムの発想ができます。"
      ]
    },
    {
      "cell_type": "code",
      "source": [
        "import numpy as np"
      ],
      "metadata": {
        "id": "xh1NBdIWChPn"
      },
      "execution_count": 85,
      "outputs": []
    },
    {
      "cell_type": "code",
      "metadata": {
        "id": "IkimRioVZ25x"
      },
      "source": [
        "N = 10\n",
        "w = np.random.rand(N)"
      ],
      "execution_count": 86,
      "outputs": []
    },
    {
      "cell_type": "markdown",
      "metadata": {
        "id": "BtaN3gwwZ6_o"
      },
      "source": [
        "まず例えば$N=10$個の荷物について、その重さを適当な乱数で決めることにしましょう。\n",
        "\n",
        "np.random.rand()で$0$から$1$の範囲にある適当な数値が出ます。\n",
        "\n",
        "この係数からQUBO行列を作ります。\n",
        "まず最初に全重量の計算です。"
      ]
    },
    {
      "cell_type": "code",
      "metadata": {
        "id": "bBEtvgMcXQxB"
      },
      "source": [
        "W = np.sum(w)"
      ],
      "execution_count": 87,
      "outputs": []
    },
    {
      "cell_type": "markdown",
      "metadata": {
        "id": "sf6-PIHAaUbo"
      },
      "source": [
        "numpyのsum()を利用すれば全重量の合計が計算できます。"
      ]
    },
    {
      "cell_type": "code",
      "metadata": {
        "id": "B6UbhVJ_abdQ"
      },
      "source": [
        "Q = np.zeros(N**2).reshape(N,N)"
      ],
      "execution_count": 88,
      "outputs": []
    },
    {
      "cell_type": "markdown",
      "metadata": {
        "id": "3lLNGyMKzlzE"
      },
      "source": [
        "まずはQUBO行列を格納する場所を用意しましょう。np.zeros()はその名の通り、全成分を0で埋めたものを並べて作ります。これを.reshape(N,N)でN×Nの行列に整形します。"
      ]
    },
    {
      "cell_type": "code",
      "metadata": {
        "id": "tRE0jFCCas-4"
      },
      "source": [
        "for i in range(N):\n",
        "  for j in range(N):\n",
        "    Q[i][j] = 4*w[i]*w[j]"
      ],
      "execution_count": 89,
      "outputs": []
    },
    {
      "cell_type": "markdown",
      "metadata": {
        "id": "I3i4SSXWzl1N"
      },
      "source": [
        "まず第一項の計算をここで実行しています。for文を使って、iとjを動かしながら、$Q_{ij}$すなわちQ[i][j]に値を入れていきます。その値は$4w_iw_j$ですから、その結果を入れていきます。\n",
        "次に第二項をQUBO行列の対角成分に追加しましょう。"
      ]
    },
    {
      "cell_type": "code",
      "metadata": {
        "id": "TraXwF00bOdq"
      },
      "source": [
        "for i in range(N):\n",
        "  Q[i][i] = Q[i][i] - 4*W*w[i]"
      ],
      "execution_count": 90,
      "outputs": []
    },
    {
      "cell_type": "markdown",
      "metadata": {
        "id": "iBsMrsaNbWGA"
      },
      "source": [
        "ここで注意して欲しいのが、第一項で計算した結果に追加するので、元からあるQ[i][i]に引き算をするようにしています。\n",
        "\n",
        "これでQUBO行列の作成完了です。"
      ]
    },
    {
      "cell_type": "markdown",
      "metadata": {
        "id": "45jyT_Vh6nZB"
      },
      "source": [
        "### **QUBO行列の設定方法について**"
      ]
    },
    {
      "cell_type": "markdown",
      "metadata": {
        "id": "Z1C_kBE96saW"
      },
      "source": [
        "QUBO行列はだんだんと巨大なものになってくると、そのデータ転送にも時間がかかるようになり、せっかくの量子アニーリングマシンのパワーを台無しにしてしまうことがあります。\n",
        "データの転送量を抑えるためにも、不要な成分についてはその情報を送らないようにしておくと良いでしょう。\n",
        "python上ではnumpyによるarray形式で行列を扱うことが多いのですが、代わりにdict形式でデータを送りましょう。\n"
      ]
    },
    {
      "cell_type": "code",
      "metadata": {
        "id": "w6DAxcPm7FCn"
      },
      "source": [
        "Qdict = {}\n",
        "for i in range(N):\n",
        "  for j in range(N):\n",
        "    if Q[i][j] != 0.0:\n",
        "      Qdict[(i,j)] = Q[i][j]"
      ],
      "execution_count": 91,
      "outputs": []
    },
    {
      "cell_type": "markdown",
      "metadata": {
        "id": "Uiv3XbN77RnA"
      },
      "source": [
        "dict形式の初期化は{}で中身は空欄にしておくだけです。\n",
        "Qdict[(i,j)]のように(i,j)でどの成分に値があるのかを指定して、その値を代入します。\n",
        "ここではif文を使い、ゼロではないところだけ、Qdictのデータとして格納しています。\n",
        "出来上がったものを確認したい場合にはQdictとそのまま打って実行したり、print(Qdict)と実行してみましょう。"
      ]
    },
    {
      "cell_type": "code",
      "metadata": {
        "colab": {
          "base_uri": "https://localhost:8080/"
        },
        "id": "tKL6Jbtg7m_a",
        "outputId": "8e4bd382-6c07-47f6-e8fb-4702d30cbd16"
      },
      "source": [
        "print(Qdict)"
      ],
      "execution_count": 92,
      "outputs": [
        {
          "output_type": "stream",
          "name": "stdout",
          "text": [
            "{(0, 0): -9.6943091646132, (0, 1): 1.1820357015673357, (0, 2): 2.543390878188608, (0, 3): 2.708469299334047, (0, 4): 0.9488193394128392, (0, 5): 0.3561772956519539, (0, 6): 0.3903797170448637, (0, 7): 1.0815379789913604, (0, 8): 0.26074105613126974, (0, 9): 0.22275789829092374, (1, 0): 1.1820357015673357, (1, 1): -6.1748991715687165, (1, 2): 1.4918227734073224, (1, 3): 1.5886493171268945, (1, 4): 0.5565288098357328, (1, 5): 0.20891535217058152, (1, 6): 0.22897674012993274, (1, 7): 0.6343747637065298, (1, 8): 0.1529373439350913, (1, 9): 0.13065836968929667, (2, 0): 2.543390878188608, (2, 1): 1.4918227734073224, (2, 2): -11.568416718201584, (2, 3): 3.41830299750124, (2, 4): 1.1974852337442128, (2, 5): 0.449523986728711, (2, 6): 0.4926901542750557, (2, 7): 1.3649866795265568, (2, 8): 0.32907588576481467, (2, 9): 0.28113812906506486, (3, 0): 2.708469299334047, (3, 1): 1.5886493171268945, (3, 2): 3.41830299750124, (3, 3): -12.097398683461751, (3, 4): 1.2752078415536177, (3, 5): 0.47870027678799926, (3, 6): 0.5246681382645059, (3, 7): 1.4535809447152712, (3, 8): 0.35043450905978424, (3, 9): 0.2993853591183928, (4, 0): 0.9488193394128392, (4, 1): 0.5565288098357328, (4, 2): 1.1974852337442128, (4, 3): 1.2752078415536177, (4, 4): -5.066391285332621, (4, 5): 0.16769622624499034, (4, 6): 0.18379949017014685, (4, 7): 0.5092122373648267, (4, 8): 0.12276271304803836, (4, 9): 0.10487939395821615, (5, 0): 0.3561772956519539, (5, 1): 0.20891535217058152, (5, 2): 0.449523986728711, (5, 3): 0.47870027678799926, (5, 4): 0.16769622624499034, (5, 5): -2.00661738424875, (5, 6): 0.06899649135685072, (5, 7): 0.19115318383974175, (5, 8): 0.046083895346616555, (5, 9): 0.039370676121304835, (6, 0): 0.3903797170448637, (6, 1): 0.22897674012993274, (6, 2): 0.4926901542750557, (6, 3): 0.5246681382645059, (6, 4): 0.18379949017014685, (6, 5): 0.06899649135685072, (6, 6): -2.19268013189551, (6, 7): 0.20950893482133115, (6, 8): 0.05050916564686594, (6, 9): 0.04315130018595738, (7, 0): 1.0815379789913604, (7, 1): 0.6343747637065298, (7, 2): 1.3649866795265568, (7, 3): 1.4535809447152712, (7, 4): 0.5092122373648267, (7, 5): 0.19115318383974175, (7, 6): 0.20950893482133115, (7, 7): -5.7038388777650315, (7, 8): 0.13993447545834778, (7, 9): 0.11954967934106683, (8, 0): 0.26074105613126974, (8, 1): 0.1529373439350913, (8, 2): 0.32907588576481467, (8, 3): 0.35043450905978424, (8, 4): 0.12276271304803836, (8, 5): 0.046083895346616555, (8, 6): 0.05050916564686594, (8, 7): 0.13993447545834778, (8, 8): -1.4813005099861605, (8, 9): 0.028821465595332003, (9, 0): 0.22275789829092374, (9, 1): 0.13065836968929667, (9, 2): 0.28113812906506486, (9, 3): 0.2993853591183928, (9, 4): 0.10487939395821615, (9, 5): 0.039370676121304835, (9, 6): 0.04315130018595738, (9, 7): 0.11954967934106683, (9, 8): 0.028821465595332003, (9, 9): -1.269712271365555}\n"
          ]
        }
      ]
    },
    {
      "cell_type": "markdown",
      "metadata": {
        "id": "U-5Lhef57D8S"
      },
      "source": [
        "どこの成分に重要な非零の行列成分があるのかを指定する形になっています。\n",
        "上記の問題では非零成分のない問題になっていますので影響はさほどありませんが、\n",
        "基本的なテクニックとして知っておくと良いでしょう。\n",
        "\n",
        "（正直この入力の違いだけでハイブリッドソルバーなどでは如実に性能が変わります）"
      ]
    },
    {
      "cell_type": "markdown",
      "metadata": {
        "id": "z4LcRgYE4J_b"
      },
      "source": [
        "### **シミュレータを活用しよう**"
      ]
    },
    {
      "cell_type": "markdown",
      "metadata": {
        "id": "d3kszBzahK9k"
      },
      "source": [
        "さて上記のように用意した量子アニーリングマシンは、利用回数には制限があり、大事に使いたいところでしょう。演習の際には豊富なマシンタイムを利用することのできるAPI tokenを発行する予定ですが、講義の間の試し利用の場合には、代わりになるシミュレータを利用すると良いでしょう。\n",
        "その一つが**株式会社Jijの開発するOpenJij**です。\n",
        "\n",
        "OpenJijは量子アニーリングマシンのシミュレータを搭載するオープンソースソフトウェアです。\n"
      ]
    },
    {
      "cell_type": "markdown",
      "metadata": {
        "id": "IP9-zetq5OZP"
      },
      "source": [
        "基本的な利用方法は、これまでと同じようにQUBO行列を作ったのちにsamplerに投入するだけです。その際にOpenJijのsamplerを利用します。"
      ]
    },
    {
      "cell_type": "markdown",
      "metadata": {
        "id": "u-5Dp62i5YN_"
      },
      "source": [
        "その前にまずはOpenJijのインストールが必要です。"
      ]
    },
    {
      "cell_type": "code",
      "metadata": {
        "colab": {
          "base_uri": "https://localhost:8080/"
        },
        "id": "GiWddXap5fIL",
        "outputId": "2ae6ef26-cdf5-43b5-f885-6b99af034441"
      },
      "source": [
        "pip install openjij"
      ],
      "execution_count": 93,
      "outputs": [
        {
          "output_type": "stream",
          "name": "stdout",
          "text": [
            "Requirement already satisfied: openjij in /usr/local/lib/python3.7/dist-packages (0.4.6)\n",
            "Requirement already satisfied: dimod>=0.9.1 in /usr/local/lib/python3.7/dist-packages (from openjij) (0.10.12)\n",
            "Requirement already satisfied: requests in /usr/local/lib/python3.7/dist-packages (from openjij) (2.23.0)\n",
            "Requirement already satisfied: jij-cimod>=1.2.3 in /usr/local/lib/python3.7/dist-packages (from openjij) (1.3.4)\n",
            "Requirement already satisfied: numpy!=1.21.0,!=1.21.1,>=1.18.4 in /usr/local/lib/python3.7/dist-packages (from openjij) (1.19.5)\n",
            "Requirement already satisfied: scipy in /usr/local/lib/python3.7/dist-packages (from openjij) (1.4.1)\n",
            "Requirement already satisfied: typing-extensions>=3.10.0 in /usr/local/lib/python3.7/dist-packages (from openjij) (3.10.0.2)\n",
            "Requirement already satisfied: pyparsing<3.0.0,>=2.4.7 in /usr/local/lib/python3.7/dist-packages (from dimod>=0.9.1->openjij) (2.4.7)\n",
            "Requirement already satisfied: chardet<4,>=3.0.2 in /usr/local/lib/python3.7/dist-packages (from requests->openjij) (3.0.4)\n",
            "Requirement already satisfied: urllib3!=1.25.0,!=1.25.1,<1.26,>=1.21.1 in /usr/local/lib/python3.7/dist-packages (from requests->openjij) (1.24.3)\n",
            "Requirement already satisfied: certifi>=2017.4.17 in /usr/local/lib/python3.7/dist-packages (from requests->openjij) (2021.10.8)\n",
            "Requirement already satisfied: idna<3,>=2.5 in /usr/local/lib/python3.7/dist-packages (from requests->openjij) (2.10)\n"
          ]
        }
      ]
    },
    {
      "cell_type": "markdown",
      "metadata": {
        "id": "3xLQbXWn5bp3"
      },
      "source": [
        "再びpip installを利用して、OpenJijをインストールします。\n",
        "その後にimport SQASamplerを実行してsamplerの準備を行いましょう。"
      ]
    },
    {
      "cell_type": "code",
      "metadata": {
        "id": "iOnD6obYfGnp"
      },
      "source": [
        "from openjij import SQASampler\n",
        "sampler = SQASampler()"
      ],
      "execution_count": 94,
      "outputs": []
    },
    {
      "cell_type": "markdown",
      "metadata": {
        "id": "2_l066yk8AcA"
      },
      "source": [
        "準備はこれだけです。SQAというのはシミュレーテッド量子アニーリングというもので、\n",
        "**量子モンテカルロ法**という計算技術を活用して、**量子アニーリングのシミュレーション**を行っています。\n",
        "オプションでそのシミュレーションのパラメータ等を設定することができますが、とりあえず前に進めていきましょう。"
      ]
    },
    {
      "cell_type": "code",
      "metadata": {
        "id": "fR5-8aee5vDn"
      },
      "source": [
        "sampleset = sampler.sample_qubo(Qdict, num_reads=10)"
      ],
      "execution_count": 95,
      "outputs": []
    },
    {
      "cell_type": "code",
      "metadata": {
        "colab": {
          "base_uri": "https://localhost:8080/"
        },
        "id": "iJeu9wTa6g0K",
        "outputId": "117f39af-a674-46ab-f91e-fc279575b698"
      },
      "source": [
        "print(sampleset.record)"
      ],
      "execution_count": 96,
      "outputs": [
        {
          "output_type": "stream",
          "name": "stdout",
          "text": [
            "[([0, 0, 1, 1, 0, 1, 0, 0, 0, 1], -17.00930221, 1)\n",
            " ([1, 1, 1, 0, 0, 1, 0, 0, 0, 1], -16.90237259, 1)\n",
            " ([1, 1, 0, 1, 0, 0, 1, 0, 0, 0], -16.91292932, 1)\n",
            " ([0, 0, 0, 1, 1, 1, 1, 1, 1, 1], -17.00312635, 1)\n",
            " ([0, 1, 0, 1, 1, 1, 0, 0, 1, 1], -16.99425621, 1)\n",
            " ([0, 1, 0, 1, 0, 0, 0, 1, 1, 0], -16.81761453, 1)\n",
            " ([1, 1, 0, 0, 0, 1, 0, 1, 1, 1], -16.74057911, 1)\n",
            " ([0, 1, 1, 0, 0, 1, 0, 1, 0, 1], -16.90049724, 1)\n",
            " ([0, 1, 0, 1, 1, 1, 1, 0, 0, 0], -16.97370929, 1)\n",
            " ([1, 0, 0, 1, 1, 0, 0, 0, 1, 0], -17.00653013, 1)]\n"
          ]
        }
      ]
    },
    {
      "cell_type": "markdown",
      "metadata": {
        "id": "B40tNNEt9KHW"
      },
      "source": [
        "OpenJijではdict形式で問題を受け付けますので、注意してください。\n",
        "\n",
        "（先程の手順でnumpy array形式だったものをdict形式に直しておきましょう）\n",
        "\n",
        "結構いい答えが出てきたのではないでしょうか。これでとりあえずは十分ですよね。\n",
        "ただ問題のサイズが大きくなるにつれて結果が次第に悪化してくることがありますのでご注意を。\n",
        "それはパラメータの設定で改善する可能性があります。"
      ]
    }
  ]
}