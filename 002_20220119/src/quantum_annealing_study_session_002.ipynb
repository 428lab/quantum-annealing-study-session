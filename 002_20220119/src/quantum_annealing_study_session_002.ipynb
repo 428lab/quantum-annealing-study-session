{
  "nbformat": 4,
  "nbformat_minor": 0,
  "metadata": {
    "colab": {
      "name": "quantum_annealing_study_session_002.ipynb",
      "provenance": [],
      "collapsed_sections": []
    },
    "kernelspec": {
      "name": "python3",
      "display_name": "Python 3"
    },
    "language_info": {
      "name": "python"
    }
  },
  "cells": [
    {
      "cell_type": "markdown",
      "metadata": {
        "id": "view-in-github"
      },
      "source": [
        "<a href=\"https://colab.research.google.com/gist/mohzeki222/7faebc6a45a511fa33c769ed88ca740b/chapter1.ipynb\" target=\"_parent\"><img src=\"https://colab.research.google.com/assets/colab-badge.svg\" alt=\"Open In Colab\"/></a>"
      ]
    },
    {
      "cell_type": "markdown",
      "source": [
        "オリジナルはこちらです。\n",
        "https://altema.is.tohoku.ac.jp/QA4U/"
      ],
      "metadata": {
        "id": "GvActmfZDpbC"
      }
    },
    {
      "cell_type": "markdown",
      "metadata": {
        "id": "dWzmOoJPzlkJ"
      },
      "source": [
        "### **実感の湧く問題を解いてみよう**"
      ]
    },
    {
      "cell_type": "markdown",
      "metadata": {
        "id": "gzgI7qDUzll-"
      },
      "source": [
        "少し具体的に意味のある問題を解いてみることにしましょう。\n"
      ]
    },
    {
      "cell_type": "markdown",
      "metadata": {
        "id": "gu_yM2KXzloD"
      },
      "source": [
        "**いくつかの荷物があり、それぞれには重さが異なるものとします。\n",
        "それを運ぶ2人がいて、重さが均等になるようにその荷物を2つのグループに分けたい。**"
      ]
    },
    {
      "cell_type": "markdown",
      "metadata": {
        "id": "40LzLXSPzlqM"
      },
      "source": [
        "どのようにしたら良いでしょうか？\n",
        "ここで考えなければならないのは**QUBO行列を作る**ことです。\n",
        "ただしいきなり$Q_{ij}$のことを思っても何も思い浮かばないものです。\n",
        "そこで重要となるのが**数式によるモデリング**です。\n",
        "ここが量子アニーリングの研究開発を行う上での成長ポイントです。\n",
        "量子そのものの前に、数理モデリングに挑戦する必要があるのです。"
      ]
    },
    {
      "cell_type": "markdown",
      "metadata": {
        "id": "SwFe5FJEzlsX"
      },
      "source": [
        "重さを持ついくつかの荷物があるというのだから、その重さを$w_i$としましょう。\n",
        "$N$個あるとして、合計した重さは$W=\\sum_{i=1}^N w_i$です。\n",
        "\n",
        "（こうやって何も与えられていないところで**自分で文字式を立てる**ところから訓練です）\n"
      ]
    },
    {
      "cell_type": "markdown",
      "metadata": {
        "id": "4vbhaCW3zlup"
      },
      "source": [
        "2人のうちAさんがその荷物を取る場合$x_i=1$として、取らない場合は$x_i=0$とすると、\n",
        "Aさんが持つ荷物の重さの合計は、\n",
        "\\begin{equation}\n",
        "W_A = \\sum_{i=1}^N w_i x_i\n",
        "\\end{equation}\n",
        "逆にBさんは残りの荷物を持つので\n",
        "\\begin{equation}\n",
        "W_B = W - W_A\n",
        "\\end{equation}\n",
        "となります。\n",
        "これらが等しくなるというのだから、\n",
        "\\begin{equation}\n",
        "W_A - W_B\n",
        "\\end{equation}\n",
        "という引き算をしたズレが$0$になれば完璧です。\n",
        "もしくは非常に小さいものとなってくれれば嬉しい。\n",
        "ただ$W_A$がわずかに大きくても仕方ないし、小さくても仕方ない。正負の値どちらでも良いからとにかく**ズレの大きさ**ができるだけ小さいことが望ましいというわけです。\n",
        "できるだけ小さい、すなわちズレの大きさが最小になるような組み合わせを見つければ良いですよね。\n",
        "そうするとコスト関数として、次のようなものを考えてみましょう。\n",
        "\\begin{equation}\n",
        "E({\\bf x}) = \\left( W_A - W_B \\right)^2 = \\left( 2W_A - W \\right)^2\n",
        "\\end{equation}\n",
        "ここに$W_A$の具体的な形として先ほど準備しておいた形を入れてみましょう。\n",
        "\\begin{equation}\n",
        "E({\\bf x}) = \\left( 2\\sum_{i=1}^N w_i x_i - W \\right)^2\n",
        "\\end{equation}\n",
        "\n"
      ]
    },
    {
      "cell_type": "markdown",
      "metadata": {
        "id": "XS7EVj71zlwx"
      },
      "source": [
        "何か近い形になってきましたね。二乗をするというのは同じものを掛け算するという意味です。\n",
        "シグマ記号は嫌らしいけれども意味はとにかく足し算をするというものでした。\n",
        "下にある$i=1$は$i$という文字を$1$から動かして上にある$N$まで変えて足し算してくださいね、ということです。\n",
        "だったら$i$という文字は仮置きをしているだけですから、別の文字を使っても良いですね。\n"
      ]
    },
    {
      "cell_type": "markdown",
      "metadata": {
        "id": "OXjkUAmOXRcx"
      },
      "source": [
        "\\begin{equation}\n",
        "E({\\bf x}) = \\left( 2\\sum_{i=1}^N w_i x_i - W \\right)\\left( 2\\sum_{j=1}^N w_j x_j - W \\right)\n",
        "\\end{equation}"
      ]
    },
    {
      "cell_type": "markdown",
      "metadata": {
        "id": "NZifi9yCXWyS"
      },
      "source": [
        "この掛け算を展開してみましょう。"
      ]
    },
    {
      "cell_type": "markdown",
      "metadata": {
        "id": "i3VkKv_WXbow"
      },
      "source": [
        "\\begin{equation}\n",
        "E({\\bf x}) = 4\\sum_{i=1}^N\\sum_{j=1}^N w_iw_j x_ix_j - 2W\\sum_{i=1}^N w_i x_i  - 2W\\sum_{j=1}^N w_j x_j + W^2\n",
        "\\end{equation}"
      ]
    },
    {
      "cell_type": "markdown",
      "metadata": {
        "id": "J6GWTPrzY9vy"
      },
      "source": [
        "ここで第二項と第三項で同じ和が2つ出ていますので、まとめておきましょう。\n",
        "\\begin{equation}\n",
        "E({\\bf x}) = 4\\sum_{i=1}^N\\sum_{j=1}^N w_iw_j x_ix_j - 4W\\sum_{i=1}^N w_i x_i + W^2\n",
        "\\end{equation}\n"
      ]
    },
    {
      "cell_type": "markdown",
      "metadata": {
        "id": "6rFLqcTlYtO6"
      },
      "source": [
        "$x_ix_j$という部分が出てきましたね。その係数は$4w_iw_j$で、この部分がQUBO行列に相当します。$x_i$が$0$と$1$のどちらかの値を持つことから、$x_i$が$x_ix_i$と同じことを思いつくと、第二項は、$-4W\\sum_{i=1}^N w_i x_ix_i$という意味で、QUBO行列のうち添え字が同じ$i$と$i$のとき、対角成分のことを示していることがわかります。\n",
        "これらの事実からQUBO行列を作るプログラムの発想ができます。"
      ]
    },
    {
      "cell_type": "code",
      "source": [
        "import numpy as np"
      ],
      "metadata": {
        "id": "xh1NBdIWChPn"
      },
      "execution_count": 49,
      "outputs": []
    },
    {
      "cell_type": "code",
      "metadata": {
        "id": "IkimRioVZ25x"
      },
      "source": [
        "N = 10\n",
        "w = np.random.rand(N)"
      ],
      "execution_count": 50,
      "outputs": []
    },
    {
      "cell_type": "markdown",
      "metadata": {
        "id": "BtaN3gwwZ6_o"
      },
      "source": [
        "まず例えば$N=10$個の荷物について、その重さを適当な乱数で決めることにしましょう。\n",
        "\n",
        "np.random.rand()で$0$から$1$の範囲にある適当な数値が出ます。\n",
        "\n",
        "この係数からQUBO行列を作ります。\n",
        "まず最初に全重量の計算です。"
      ]
    },
    {
      "cell_type": "code",
      "metadata": {
        "id": "bBEtvgMcXQxB"
      },
      "source": [
        "W = np.sum(w)"
      ],
      "execution_count": 51,
      "outputs": []
    },
    {
      "cell_type": "markdown",
      "metadata": {
        "id": "sf6-PIHAaUbo"
      },
      "source": [
        "numpyのsum()を利用すれば全重量の合計が計算できます。"
      ]
    },
    {
      "cell_type": "code",
      "metadata": {
        "id": "B6UbhVJ_abdQ"
      },
      "source": [
        "Q = np.zeros(N**2).reshape(N,N)"
      ],
      "execution_count": 52,
      "outputs": []
    },
    {
      "cell_type": "markdown",
      "metadata": {
        "id": "3lLNGyMKzlzE"
      },
      "source": [
        "まずはQUBO行列を格納する場所を用意しましょう。np.zeros()はその名の通り、全成分を0で埋めたものを並べて作ります。これを.reshape(N,N)でN×Nの行列に整形します。"
      ]
    },
    {
      "cell_type": "code",
      "metadata": {
        "id": "tRE0jFCCas-4"
      },
      "source": [
        "for i in range(N):\n",
        "  for j in range(N):\n",
        "    Q[i][j] = 4*w[i]*w[j]"
      ],
      "execution_count": 53,
      "outputs": []
    },
    {
      "cell_type": "markdown",
      "metadata": {
        "id": "I3i4SSXWzl1N"
      },
      "source": [
        "まず第一項の計算をここで実行しています。for文を使って、iとjを動かしながら、$Q_{ij}$すなわちQ[i][j]に値を入れていきます。その値は$4w_iw_j$ですから、その結果を入れていきます。\n",
        "次に第二項をQUBO行列の対角成分に追加しましょう。"
      ]
    },
    {
      "cell_type": "code",
      "metadata": {
        "id": "TraXwF00bOdq"
      },
      "source": [
        "for i in range(N):\n",
        "  Q[i][i] = Q[i][i] - 4*W*w[i]"
      ],
      "execution_count": 54,
      "outputs": []
    },
    {
      "cell_type": "markdown",
      "metadata": {
        "id": "iBsMrsaNbWGA"
      },
      "source": [
        "ここで注意して欲しいのが、第一項で計算した結果に追加するので、元からあるQ[i][i]に引き算をするようにしています。\n",
        "\n",
        "これでQUBO行列の作成完了です。"
      ]
    },
    {
      "cell_type": "markdown",
      "metadata": {
        "id": "45jyT_Vh6nZB"
      },
      "source": [
        "### **QUBO行列の設定方法について**"
      ]
    },
    {
      "cell_type": "markdown",
      "metadata": {
        "id": "Z1C_kBE96saW"
      },
      "source": [
        "QUBO行列はだんだんと巨大なものになってくると、そのデータ転送にも時間がかかるようになり、せっかくの量子アニーリングマシンのパワーを台無しにしてしまうことがあります。\n",
        "データの転送量を抑えるためにも、不要な成分についてはその情報を送らないようにしておくと良いでしょう。\n",
        "python上ではnumpyによるarray形式で行列を扱うことが多いのですが、代わりにdict形式でデータを送りましょう。\n"
      ]
    },
    {
      "cell_type": "code",
      "metadata": {
        "id": "w6DAxcPm7FCn"
      },
      "source": [
        "Qdict = {}\n",
        "for i in range(N):\n",
        "  for j in range(N):\n",
        "    if Q[i][j] != 0.0:\n",
        "      Qdict[(i,j)] = Q[i][j]"
      ],
      "execution_count": 55,
      "outputs": []
    },
    {
      "cell_type": "markdown",
      "metadata": {
        "id": "Uiv3XbN77RnA"
      },
      "source": [
        "dict形式の初期化は{}で中身は空欄にしておくだけです。\n",
        "Qdict[(i,j)]のように(i,j)でどの成分に値があるのかを指定して、その値を代入します。\n",
        "ここではif文を使い、ゼロではないところだけ、Qdictのデータとして格納しています。\n",
        "出来上がったものを確認したい場合にはQdictとそのまま打って実行したり、print(Qdict)と実行してみましょう。"
      ]
    },
    {
      "cell_type": "code",
      "metadata": {
        "colab": {
          "base_uri": "https://localhost:8080/"
        },
        "id": "tKL6Jbtg7m_a",
        "outputId": "7d233707-26df-4232-f8bf-09e781edbb46"
      },
      "source": [
        "print(Qdict)"
      ],
      "execution_count": 56,
      "outputs": [
        {
          "output_type": "stream",
          "name": "stdout",
          "text": [
            "{(0, 0): -9.496160965427809, (0, 1): 1.335779814328449, (0, 2): 0.30117057142631193, (0, 3): 0.9135904223540371, (0, 4): 2.3042439593904915, (0, 5): 1.393727774808067, (0, 6): 1.4087426283641773, (0, 7): 0.19672826173765257, (0, 8): 1.476977938008617, (0, 9): 0.16519959501000425, (1, 0): 1.335779814328449, (1, 1): -8.079885194489307, (1, 2): 0.24890088262956672, (1, 3): 0.7550321447707428, (1, 4): 1.9043306674021012, (1, 5): 1.1518392107575048, (1, 6): 1.164248159895432, (1, 7): 0.16258506849718124, (1, 8): 1.220640883515702, (1, 9): 0.13652836269262628, (2, 0): 0.30117057142631193, (2, 1): 0.24890088262956672, (2, 2): -2.0145077549111168, (2, 3): 0.1702327434856159, (2, 4): 0.42935845349218493, (2, 5): 0.25969854430647366, (2, 6): 0.2624963185074174, (2, 7): 0.036657117782019535, (2, 8): 0.2752108606908096, (2, 9): 0.030782262590716637, (3, 0): 0.9135904223540371, (3, 1): 0.7550321447707428, (3, 2): 0.1702327434856159, (3, 3): -5.764776654750435, (3, 4): 1.3024438908805405, (3, 5): 0.7877864748008102, (3, 6): 0.796273425241507, (3, 7): 0.11119808804078617, (3, 8): 0.8348425454193247, (3, 9): 0.09337691975707013, (4, 0): 2.3042439593904915, (4, 1): 1.9043306674021012, (4, 2): 0.42935845349218493, (4, 3): 1.3024438908805405, (4, 4): -12.557272164411689, (4, 5): 1.9869431437032348, (4, 6): 2.008348801871402, (4, 7): 0.28046213751183524, (4, 8): 2.10562725402477, (4, 9): 0.23551385613512796, (5, 0): 1.393727774808067, (5, 1): 1.1518392107575048, (5, 2): 0.25969854430647366, (5, 3): 0.7877864748008102, (5, 4): 1.9869431437032348, (5, 5): -8.380433331659729, (5, 6): 1.2147548419356948, (5, 7): 0.16963823176764675, (5, 8): 1.2735939592539625, (5, 9): 0.14245115032633276, (6, 0): 1.4087426283641773, (6, 1): 1.164248159895432, (6, 2): 0.2624963185074174, (6, 3): 0.796273425241507, (6, 4): 2.008348801871402, (6, 5): 1.2147548419356948, (6, 6): -8.457630338921922, (6, 7): 0.1714657717317258, (6, 8): 1.287314591886672, (6, 9): 0.1439857994878908, (7, 0): 0.19672826173765257, (7, 1): 0.16258506849718124, (7, 2): 0.036657117782019535, (7, 3): 0.11119808804078617, (7, 4): 0.28046213751183524, (7, 5): 0.16963823176764675, (7, 6): 0.1714657717317258, (7, 7): -1.3286130880362967, (7, 8): 0.17977106454530603, (7, 9): 0.020107346422143124, (8, 0): 1.476977938008617, (8, 1): 1.220640883515702, (8, 2): 0.2752108606908096, (8, 3): 0.8348425454193247, (8, 4): 2.10562725402477, (8, 5): 1.2735939592539625, (8, 6): 1.287314591886672, (8, 7): 0.17977106454530603, (8, 8): -8.804939141393163, (8, 9): 0.1509600440479969, (9, 0): 0.16519959501000425, (9, 1): 0.13652836269262628, (9, 2): 0.030782262590716637, (9, 3): 0.09337691975707013, (9, 4): 0.23551385613512796, (9, 5): 0.14245115032633276, (9, 6): 0.1439857994878908, (9, 7): 0.020107346422143124, (9, 8): 0.1509600440479969, (9, 9): -1.118905336469909}\n"
          ]
        }
      ]
    },
    {
      "cell_type": "markdown",
      "metadata": {
        "id": "U-5Lhef57D8S"
      },
      "source": [
        "どこの成分に重要な非零の行列成分があるのかを指定する形になっています。\n",
        "上記の問題では非零成分のない問題になっていますので影響はさほどありませんが、\n",
        "基本的なテクニックとして知っておくと良いでしょう。\n",
        "\n",
        "（正直この入力の違いだけでハイブリッドソルバーなどでは如実に性能が変わります）"
      ]
    },
    {
      "cell_type": "markdown",
      "metadata": {
        "id": "z4LcRgYE4J_b"
      },
      "source": [
        "### **シミュレータを活用しよう**"
      ]
    },
    {
      "cell_type": "markdown",
      "metadata": {
        "id": "d3kszBzahK9k"
      },
      "source": [
        "さて上記のように用意した量子アニーリングマシンは、利用回数には制限があり、大事に使いたいところでしょう。演習の際には豊富なマシンタイムを利用することのできるAPI tokenを発行する予定ですが、講義の間の試し利用の場合には、代わりになるシミュレータを利用すると良いでしょう。\n",
        "その一つが**株式会社Jijの開発するOpenJij**です。\n",
        "\n",
        "OpenJijは量子アニーリングマシンのシミュレータを搭載するオープンソースソフトウェアです。\n"
      ]
    },
    {
      "cell_type": "markdown",
      "metadata": {
        "id": "IP9-zetq5OZP"
      },
      "source": [
        "基本的な利用方法は、これまでと同じようにQUBO行列を作ったのちにsamplerに投入するだけです。その際にOpenJijのsamplerを利用します。"
      ]
    },
    {
      "cell_type": "markdown",
      "metadata": {
        "id": "u-5Dp62i5YN_"
      },
      "source": [
        "その前にまずはOpenJijのインストールが必要です。"
      ]
    },
    {
      "cell_type": "code",
      "metadata": {
        "colab": {
          "base_uri": "https://localhost:8080/"
        },
        "id": "GiWddXap5fIL",
        "outputId": "984ff2a5-ebfd-4130-ea40-618181e4ea22"
      },
      "source": [
        "pip install openjij"
      ],
      "execution_count": 57,
      "outputs": [
        {
          "output_type": "stream",
          "name": "stdout",
          "text": [
            "Requirement already satisfied: openjij in /usr/local/lib/python3.7/dist-packages (0.4.6)\n",
            "Requirement already satisfied: scipy in /usr/local/lib/python3.7/dist-packages (from openjij) (1.4.1)\n",
            "Requirement already satisfied: requests in /usr/local/lib/python3.7/dist-packages (from openjij) (2.23.0)\n",
            "Requirement already satisfied: jij-cimod>=1.2.3 in /usr/local/lib/python3.7/dist-packages (from openjij) (1.3.4)\n",
            "Requirement already satisfied: dimod>=0.9.1 in /usr/local/lib/python3.7/dist-packages (from openjij) (0.10.12)\n",
            "Requirement already satisfied: numpy!=1.21.0,!=1.21.1,>=1.18.4 in /usr/local/lib/python3.7/dist-packages (from openjij) (1.19.5)\n",
            "Requirement already satisfied: typing-extensions>=3.10.0 in /usr/local/lib/python3.7/dist-packages (from openjij) (3.10.0.2)\n",
            "Requirement already satisfied: pyparsing<3.0.0,>=2.4.7 in /usr/local/lib/python3.7/dist-packages (from dimod>=0.9.1->openjij) (2.4.7)\n",
            "Requirement already satisfied: certifi>=2017.4.17 in /usr/local/lib/python3.7/dist-packages (from requests->openjij) (2021.10.8)\n",
            "Requirement already satisfied: urllib3!=1.25.0,!=1.25.1,<1.26,>=1.21.1 in /usr/local/lib/python3.7/dist-packages (from requests->openjij) (1.24.3)\n",
            "Requirement already satisfied: chardet<4,>=3.0.2 in /usr/local/lib/python3.7/dist-packages (from requests->openjij) (3.0.4)\n",
            "Requirement already satisfied: idna<3,>=2.5 in /usr/local/lib/python3.7/dist-packages (from requests->openjij) (2.10)\n"
          ]
        }
      ]
    },
    {
      "cell_type": "markdown",
      "metadata": {
        "id": "3xLQbXWn5bp3"
      },
      "source": [
        "再びpip installを利用して、OpenJijをインストールします。\n",
        "その後にimport SQASamplerを実行してsamplerの準備を行いましょう。"
      ]
    },
    {
      "cell_type": "code",
      "metadata": {
        "id": "iOnD6obYfGnp"
      },
      "source": [
        "from openjij import SQASampler\n",
        "sampler = SQASampler()"
      ],
      "execution_count": 58,
      "outputs": []
    },
    {
      "cell_type": "markdown",
      "metadata": {
        "id": "2_l066yk8AcA"
      },
      "source": [
        "準備はこれだけです。SQAというのはシミュレーテッド量子アニーリングというもので、\n",
        "**量子モンテカルロ法**という計算技術を活用して、**量子アニーリングのシミュレーション**を行っています。\n",
        "オプションでそのシミュレーションのパラメータ等を設定することができますが、とりあえず前に進めていきましょう。"
      ]
    },
    {
      "cell_type": "code",
      "metadata": {
        "id": "fR5-8aee5vDn"
      },
      "source": [
        "sampleset = sampler.sample_qubo(Qdict, num_reads=10)"
      ],
      "execution_count": 59,
      "outputs": []
    },
    {
      "cell_type": "code",
      "metadata": {
        "colab": {
          "base_uri": "https://localhost:8080/"
        },
        "id": "iJeu9wTa6g0K",
        "outputId": "e26780c6-54f2-4044-d02b-cae1eefbd25e"
      },
      "source": [
        "print(sampleset.record)"
      ],
      "execution_count": 60,
      "outputs": [
        {
          "output_type": "stream",
          "name": "stdout",
          "text": [
            "[([1, 0, 1, 1, 0, 1, 0, 1, 1, 0], -19.02778174, 1)\n",
            " ([1, 1, 1, 1, 0, 0, 1, 1, 0, 0], -19.07137116, 1)\n",
            " ([1, 0, 1, 1, 0, 1, 1, 1, 0, 1], -18.98089889, 1)\n",
            " ([1, 0, 1, 1, 0, 1, 1, 0, 0, 0], -19.09656156, 1)\n",
            " ([0, 0, 1, 1, 0, 1, 1, 0, 1, 0], -19.09787861, 1)\n",
            " ([0, 0, 1, 0, 1, 1, 0, 0, 1, 0], -19.09628796, 1)\n",
            " ([1, 0, 1, 1, 1, 0, 0, 1, 0, 1], -19.09810471, 1)\n",
            " ([0, 1, 1, 0, 0, 1, 1, 1, 1, 1], -18.77765324, 1)\n",
            " ([0, 0, 1, 1, 0, 1, 1, 1, 1, 0], -19.08903115, 1)\n",
            " ([0, 1, 0, 1, 1, 0, 1, 0, 0, 1], -18.89830563, 1)]\n"
          ]
        }
      ]
    },
    {
      "cell_type": "markdown",
      "metadata": {
        "id": "B40tNNEt9KHW"
      },
      "source": [
        "OpenJijではdict形式で問題を受け付けますので、注意してください。\n",
        "\n",
        "（先程の手順でnumpy array形式だったものをdict形式に直しておきましょう）\n",
        "\n",
        "結構いい答えが出てきたのではないでしょうか。これでとりあえずは十分ですよね。\n",
        "ただ問題のサイズが大きくなるにつれて結果が次第に悪化してくることがありますのでご注意を。\n",
        "それはパラメータの設定で改善する可能性があります。"
      ]
    }
  ]
}