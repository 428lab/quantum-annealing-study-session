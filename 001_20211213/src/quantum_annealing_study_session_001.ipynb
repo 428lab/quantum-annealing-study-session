{
  "nbformat": 4,
  "nbformat_minor": 0,
  "metadata": {
    "colab": {
      "name": "quantum annealing_study_session_001.ipynb",
      "provenance": []
    },
    "kernelspec": {
      "name": "python3",
      "display_name": "Python 3"
    },
    "language_info": {
      "name": "python"
    }
  },
  "cells": [
    {
      "cell_type": "markdown",
      "metadata": {
        "id": "n8ZOf9Vec7xX"
      },
      "source": [
        "D-Waveマシンに接続するためのライブラリdwave-ocean-sdkをインポートします。"
      ]
    },
    {
      "cell_type": "code",
      "metadata": {
        "colab": {
          "base_uri": "https://localhost:8080/"
        },
        "id": "3piLrDacY-hV",
        "outputId": "9f6add9e-f039-4be6-8e77-91cd827a01bb"
      },
      "source": [
        "pip install dwave-ocean-sdk\n"
      ],
      "execution_count": 14,
      "outputs": [
        {
          "output_type": "stream",
          "name": "stdout",
          "text": [
            "Requirement already satisfied: dwave-ocean-sdk in /usr/local/lib/python3.7/dist-packages (4.4.0)\n",
            "Requirement already satisfied: dwave-hybrid==0.6.5 in /usr/local/lib/python3.7/dist-packages (from dwave-ocean-sdk) (0.6.5)\n",
            "Requirement already satisfied: dwavebinarycsp==0.1.4 in /usr/local/lib/python3.7/dist-packages (from dwave-ocean-sdk) (0.1.4)\n",
            "Requirement already satisfied: minorminer==0.2.7.post0 in /usr/local/lib/python3.7/dist-packages (from dwave-ocean-sdk) (0.2.7.post0)\n",
            "Requirement already satisfied: penaltymodel-lp==0.1.6 in /usr/local/lib/python3.7/dist-packages (from dwave-ocean-sdk) (0.1.6)\n",
            "Requirement already satisfied: dwave-inspector==0.2.9 in /usr/local/lib/python3.7/dist-packages (from dwave-ocean-sdk) (0.2.9)\n",
            "Requirement already satisfied: dwave-preprocessing==0.3.2 in /usr/local/lib/python3.7/dist-packages (from dwave-ocean-sdk) (0.3.2)\n",
            "Requirement already satisfied: penaltymodel==0.16.6 in /usr/local/lib/python3.7/dist-packages (from dwave-ocean-sdk) (0.16.6)\n",
            "Requirement already satisfied: dwave-cloud-client==0.9.3 in /usr/local/lib/python3.7/dist-packages (from dwave-ocean-sdk) (0.9.3)\n",
            "Requirement already satisfied: dwave-networkx==0.8.11 in /usr/local/lib/python3.7/dist-packages (from dwave-ocean-sdk) (0.8.11)\n",
            "Requirement already satisfied: dwave-system==1.12.0 in /usr/local/lib/python3.7/dist-packages (from dwave-ocean-sdk) (1.12.0)\n",
            "Requirement already satisfied: dwave-qbsolv==0.3.4 in /usr/local/lib/python3.7/dist-packages (from dwave-ocean-sdk) (0.3.4)\n",
            "Requirement already satisfied: dimod==0.10.12 in /usr/local/lib/python3.7/dist-packages (from dwave-ocean-sdk) (0.10.12)\n",
            "Requirement already satisfied: penaltymodel-cache==0.4.5 in /usr/local/lib/python3.7/dist-packages (from dwave-ocean-sdk) (0.4.5)\n",
            "Requirement already satisfied: dwave-neal==0.5.9 in /usr/local/lib/python3.7/dist-packages (from dwave-ocean-sdk) (0.5.9)\n",
            "Requirement already satisfied: dwave-tabu==0.4.3 in /usr/local/lib/python3.7/dist-packages (from dwave-ocean-sdk) (0.4.3)\n",
            "Requirement already satisfied: pyqubo==1.2.0 in /usr/local/lib/python3.7/dist-packages (from dwave-ocean-sdk) (1.2.0)\n",
            "Requirement already satisfied: penaltymodel-mip==0.2.6 in /usr/local/lib/python3.7/dist-packages (from dwave-ocean-sdk) (0.2.6)\n",
            "Requirement already satisfied: dwave-greedy==0.2.2 in /usr/local/lib/python3.7/dist-packages (from dwave-ocean-sdk) (0.2.2)\n",
            "Requirement already satisfied: numpy<2.0.0,>=1.19.1 in /usr/local/lib/python3.7/dist-packages (from dimod==0.10.12->dwave-ocean-sdk) (1.19.5)\n",
            "Requirement already satisfied: pyparsing<3.0.0,>=2.4.7 in /usr/local/lib/python3.7/dist-packages (from dimod==0.10.12->dwave-ocean-sdk) (2.4.7)\n",
            "Requirement already satisfied: diskcache>=5.2.1 in /usr/local/lib/python3.7/dist-packages (from dwave-cloud-client==0.9.3->dwave-ocean-sdk) (5.4.0)\n",
            "Requirement already satisfied: click>=7.0 in /usr/local/lib/python3.7/dist-packages (from dwave-cloud-client==0.9.3->dwave-ocean-sdk) (7.1.2)\n",
            "Requirement already satisfied: plucky>=0.4.3 in /usr/local/lib/python3.7/dist-packages (from dwave-cloud-client==0.9.3->dwave-ocean-sdk) (0.4.3)\n",
            "Requirement already satisfied: homebase>=1.0 in /usr/local/lib/python3.7/dist-packages (from dwave-cloud-client==0.9.3->dwave-ocean-sdk) (1.0.1)\n",
            "Requirement already satisfied: pydantic>=1.7.3 in /usr/local/lib/python3.7/dist-packages (from dwave-cloud-client==0.9.3->dwave-ocean-sdk) (1.9.0)\n",
            "Requirement already satisfied: requests[socks]>=2.18 in /usr/local/lib/python3.7/dist-packages (from dwave-cloud-client==0.9.3->dwave-ocean-sdk) (2.23.0)\n",
            "Requirement already satisfied: python-dateutil>=2.7 in /usr/local/lib/python3.7/dist-packages (from dwave-cloud-client==0.9.3->dwave-ocean-sdk) (2.8.2)\n",
            "Requirement already satisfied: importlib-metadata>=1.0 in /usr/local/lib/python3.7/dist-packages (from dwave-greedy==0.2.2->dwave-ocean-sdk) (4.10.1)\n",
            "Requirement already satisfied: networkx in /usr/local/lib/python3.7/dist-packages (from dwave-hybrid==0.6.5->dwave-ocean-sdk) (2.6.3)\n",
            "Requirement already satisfied: Flask>=1.1.1 in /usr/local/lib/python3.7/dist-packages (from dwave-inspector==0.2.9->dwave-ocean-sdk) (1.1.4)\n",
            "Requirement already satisfied: importlib-resources>=3.2.0 in /usr/local/lib/python3.7/dist-packages (from dwave-inspector==0.2.9->dwave-ocean-sdk) (5.4.0)\n",
            "Requirement already satisfied: scipy in /usr/local/lib/python3.7/dist-packages (from minorminer==0.2.7.post0->dwave-ocean-sdk) (1.7.3)\n",
            "Requirement already satisfied: rectangle-packer>=2.0.1 in /usr/local/lib/python3.7/dist-packages (from minorminer==0.2.7.post0->dwave-ocean-sdk) (2.0.1)\n",
            "Requirement already satisfied: fasteners in /usr/local/lib/python3.7/dist-packages (from minorminer==0.2.7.post0->dwave-ocean-sdk) (0.17.3)\n",
            "Requirement already satisfied: ortools<10.0.0,>=6.6.4659 in /usr/local/lib/python3.7/dist-packages (from penaltymodel-mip==0.2.6->dwave-ocean-sdk) (9.2.9972)\n",
            "Requirement already satisfied: six>=1.15.0 in /usr/local/lib/python3.7/dist-packages (from pyqubo==1.2.0->dwave-ocean-sdk) (1.15.0)\n",
            "Requirement already satisfied: Deprecated>=1.2.12 in /usr/local/lib/python3.7/dist-packages (from pyqubo==1.2.0->dwave-ocean-sdk) (1.2.13)\n",
            "Requirement already satisfied: wrapt<2,>=1.10 in /usr/local/lib/python3.7/dist-packages (from Deprecated>=1.2.12->pyqubo==1.2.0->dwave-ocean-sdk) (1.13.3)\n",
            "Requirement already satisfied: Werkzeug<2.0,>=0.15 in /usr/local/lib/python3.7/dist-packages (from Flask>=1.1.1->dwave-inspector==0.2.9->dwave-ocean-sdk) (1.0.1)\n",
            "Requirement already satisfied: itsdangerous<2.0,>=0.24 in /usr/local/lib/python3.7/dist-packages (from Flask>=1.1.1->dwave-inspector==0.2.9->dwave-ocean-sdk) (1.1.0)\n",
            "Requirement already satisfied: Jinja2<3.0,>=2.10.1 in /usr/local/lib/python3.7/dist-packages (from Flask>=1.1.1->dwave-inspector==0.2.9->dwave-ocean-sdk) (2.11.3)\n",
            "Requirement already satisfied: typing-extensions>=3.6.4 in /usr/local/lib/python3.7/dist-packages (from importlib-metadata>=1.0->dwave-greedy==0.2.2->dwave-ocean-sdk) (3.10.0.2)\n",
            "Requirement already satisfied: zipp>=0.5 in /usr/local/lib/python3.7/dist-packages (from importlib-metadata>=1.0->dwave-greedy==0.2.2->dwave-ocean-sdk) (3.7.0)\n",
            "Requirement already satisfied: MarkupSafe>=0.23 in /usr/local/lib/python3.7/dist-packages (from Jinja2<3.0,>=2.10.1->Flask>=1.1.1->dwave-inspector==0.2.9->dwave-ocean-sdk) (2.0.1)\n",
            "Requirement already satisfied: protobuf>=3.19.1 in /usr/local/lib/python3.7/dist-packages (from ortools<10.0.0,>=6.6.4659->penaltymodel-mip==0.2.6->dwave-ocean-sdk) (3.19.4)\n",
            "Requirement already satisfied: absl-py>=0.13 in /usr/local/lib/python3.7/dist-packages (from ortools<10.0.0,>=6.6.4659->penaltymodel-mip==0.2.6->dwave-ocean-sdk) (1.0.0)\n",
            "Requirement already satisfied: certifi>=2017.4.17 in /usr/local/lib/python3.7/dist-packages (from requests[socks]>=2.18->dwave-cloud-client==0.9.3->dwave-ocean-sdk) (2021.10.8)\n",
            "Requirement already satisfied: idna<3,>=2.5 in /usr/local/lib/python3.7/dist-packages (from requests[socks]>=2.18->dwave-cloud-client==0.9.3->dwave-ocean-sdk) (2.10)\n",
            "Requirement already satisfied: urllib3!=1.25.0,!=1.25.1,<1.26,>=1.21.1 in /usr/local/lib/python3.7/dist-packages (from requests[socks]>=2.18->dwave-cloud-client==0.9.3->dwave-ocean-sdk) (1.24.3)\n",
            "Requirement already satisfied: chardet<4,>=3.0.2 in /usr/local/lib/python3.7/dist-packages (from requests[socks]>=2.18->dwave-cloud-client==0.9.3->dwave-ocean-sdk) (3.0.4)\n",
            "Requirement already satisfied: PySocks!=1.5.7,>=1.5.6 in /usr/local/lib/python3.7/dist-packages (from requests[socks]>=2.18->dwave-cloud-client==0.9.3->dwave-ocean-sdk) (1.7.1)\n"
          ]
        }
      ]
    },
    {
      "cell_type": "markdown",
      "metadata": {
        "id": "1qLspLC8bnbH"
      },
      "source": [
        "今回はとりあえず、D-Waveマシンを使うことが目的なので、ランダムで10×10のQUBO行列を作成します。"
      ]
    },
    {
      "cell_type": "code",
      "metadata": {
        "id": "oX8ojsIfbt9O"
      },
      "source": [
        "import numpy as np\n",
        "\n",
        "N = 10\n",
        "QUBO = np.random.randn(N**2).reshape(N,N)"
      ],
      "execution_count": 15,
      "outputs": []
    },
    {
      "cell_type": "markdown",
      "metadata": {
        "id": "vMw4gFlEcEcV"
      },
      "source": [
        "np.random.randn()は、平均0、分散1のガウス分布に従う乱数を生成するという関数です。 \n",
        "print()でQUBO行列の中身を見れるよ。"
      ]
    },
    {
      "cell_type": "code",
      "metadata": {
        "colab": {
          "base_uri": "https://localhost:8080/"
        },
        "id": "v-CX8TTqb75B",
        "outputId": "49595812-0bc3-46e1-8dea-0bda4b8ea10a"
      },
      "source": [
        "print(QUBO[0][1])"
      ],
      "execution_count": 16,
      "outputs": [
        {
          "output_type": "stream",
          "name": "stdout",
          "text": [
            "0.7990714377279922\n"
          ]
        }
      ]
    },
    {
      "cell_type": "markdown",
      "metadata": {
        "id": "giLnbKKycZoG"
      },
      "source": [
        "「20211213_第１回量子コンピュータ勉強会～量子コンピュータってなんだろう？まずは触ってみよう～ .pdf」の手順にしたがって、D-Waveのトークンを取得してください。\n",
        "下記のXXXXXXXXXXXXXXの部分を取得したトークンに差し替えて下さい。"
      ]
    },
    {
      "cell_type": "code",
      "metadata": {
        "id": "hQiCOlt3cRgo"
      },
      "source": [
        "token = 'XXXXXXXXXXXXXX'  # 個人のAPI tokenを使用\n",
        "endpoint = 'https://cloud.dwavesys.com/sapi/'\n"
      ],
      "execution_count": 17,
      "outputs": []
    },
    {
      "cell_type": "markdown",
      "metadata": {
        "id": "2xBBdoITcpXP"
      },
      "source": [
        "これでD-Wave Systems社の量子アニーリングマシンを利用する環境が整いました。 続けて量子アニーリングマシンを呼び出す関数をいくつか用意します。"
      ]
    },
    {
      "cell_type": "code",
      "metadata": {
        "id": "z4ZcSxsrcp_I"
      },
      "source": [
        "\n",
        "from dwave.system import DWaveSampler, EmbeddingComposite\n",
        "\n",
        "dw_sampler = DWaveSampler(solver='Advantage_system4.1', token=token, endpoint=endpoint)"
      ],
      "execution_count": 18,
      "outputs": []
    },
    {
      "cell_type": "markdown",
      "metadata": {
        "id": "sqz5IgCXdPLP"
      },
      "source": [
        "DWaveSamplerは、量子アニーリングマシンにアクセスするための関数です。 solver=というオプションで、どの量子アニーリングマシンを使うのかを指定することができます。\n",
        "\n",
        "利用できるソルバーは、トークンを発行したD-Waveのダッシュボードで確認できます。\n",
        "\n",
        "solver = 'Advantage_system4.1'とします。\n",
        "\n",
        "量子アニーリングマシンの中にはQPU（Quantum Processing Unit）と呼ばれる部品があり、 そこに搭載された超伝導量子ビットによる回路のパラメータを調整して$Q_{ij}$を与えます。 回路の設計上、$Q_{ij}$で指定された構造を作ることができない場合には、他の回路や量子ビットをうまく組み合わせるエンベッドという作業をします。 その作業をするには先ほど読み込んだ関数のうちEmbeddingComposite()という関数を利用することができます。"
      ]
    },
    {
      "cell_type": "code",
      "metadata": {
        "id": "p85F34lJctHq"
      },
      "source": [
        "sampler = EmbeddingComposite(dw_sampler)\n"
      ],
      "execution_count": 19,
      "outputs": []
    },
    {
      "cell_type": "markdown",
      "metadata": {
        "id": "65jBIdbwdWZH"
      },
      "source": [
        "エンべディングを終えると、超伝導量子ビットにどの$x_i$を割り当てるか、 どのように$Q_{ij}$を割り当てるのかが決められた新しいsamplerに置き換わります。 これを利用することで,先ほど用意したQUBO行列に基づく組合せ最適化問題を量子アニーリングマシンに解かせることができます。"
      ]
    },
    {
      "cell_type": "code",
      "metadata": {
        "id": "05sPwPSMdT8k"
      },
      "source": [
        "sampleset = sampler.sample_qubo(QUBO, num_reads=10)\n"
      ],
      "execution_count": 20,
      "outputs": []
    },
    {
      "cell_type": "markdown",
      "metadata": {
        "id": "MRhKlAz9dkMu"
      },
      "source": [
        "sampler.sample_quboというのが、用意したsamplerの機能のうちQUBO形式の組合せ最適化問題を解く関数です。この引数として、先ほど用意したQUBO行列を入れます。 num_readsは非常にユニークなオプションで、何度結果を読み出すかを指定するところです。 結果を受け取ったsamplesetには、指定した組合せ最適化問題をnum_readsで指定した回数分解いた答えが格納されています。"
      ]
    },
    {
      "cell_type": "code",
      "metadata": {
        "colab": {
          "base_uri": "https://localhost:8080/"
        },
        "id": "DDp6CCMsdZ8K",
        "outputId": "a431ed0e-6966-47f7-ac4b-e4e38b9bb4d2"
      },
      "source": [
        "print(sampleset.record)\n"
      ],
      "execution_count": 21,
      "outputs": [
        {
          "output_type": "stream",
          "name": "stdout",
          "text": [
            "[([1, 0, 1, 0, 0, 1, 0, 1, 0, 1], -11.36653819, 2, 0.)\n",
            " ([0, 0, 0, 0, 1, 1, 0, 1, 1, 1], -11.33730423, 4, 0.)\n",
            " ([1, 0, 1, 0, 1, 1, 0, 1, 1, 1], -11.27184774, 1, 0.)\n",
            " ([0, 0, 1, 0, 1, 1, 0, 1, 1, 1], -11.1198523 , 1, 0.)\n",
            " ([1, 0, 0, 0, 1, 1, 0, 1, 0, 1], -10.44468558, 1, 0.)\n",
            " ([0, 1, 0, 0, 1, 1, 0, 1, 1, 1], -10.37974772, 1, 0.)]\n"
          ]
        }
      ]
    },
    {
      "cell_type": "markdown",
      "metadata": {
        "id": "BxFVrENjdp7O"
      },
      "source": [
        "結果の一番目を取り出したいときはsampleset.record[0]として、 $x_i$などの結果を知りたいときは、sampleset.record[0][0]から取り出すことができます。 さらにコスト関数の値を知りたいときはsampleset.record[0][1] その答えが何度出てきたのか頻度を知りたいときはsampleset.record[0][2]で調べることができます。"
      ]
    },
    {
      "cell_type": "code",
      "metadata": {
        "colab": {
          "base_uri": "https://localhost:8080/"
        },
        "id": "LT7Ctr8hdmiI",
        "outputId": "9aed8475-3eb5-418b-b00a-5b768d43e4ea"
      },
      "source": [
        "sampleset.record[0][0]\n"
      ],
      "execution_count": 22,
      "outputs": [
        {
          "output_type": "execute_result",
          "data": {
            "text/plain": [
              "array([1, 0, 1, 0, 0, 1, 0, 1, 0, 1], dtype=int8)"
            ]
          },
          "metadata": {},
          "execution_count": 22
        }
      ]
    },
    {
      "cell_type": "markdown",
      "metadata": {
        "id": "Rb0bQ4tZdx68"
      },
      "source": [
        "「量子アニーリングマシンを触ったぜ！」って友達に自慢しましょう！！"
      ]
    },
    {
      "cell_type": "code",
      "metadata": {
        "id": "fKNoAEBgds92"
      },
      "source": [
        ""
      ],
      "execution_count": 22,
      "outputs": []
    }
  ]
}